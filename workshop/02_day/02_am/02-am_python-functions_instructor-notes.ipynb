{
 "cells": [
  {
   "cell_type": "markdown",
   "metadata": {},
   "source": [
    "# Introduction to Python Functions\n",
    "\n",
    "## What are functions?\n",
    "- functions are stand-alone bits of code that perform a particular function\n",
    "- when well done, they have a pretty limited scope\n",
    "\n",
    "## Why use functions?\n",
    "- functions contribute greatly to creating modularized code\n",
    "- modularized code describes a software design technique that emphasizes structuring a program into independent, interchangeable parts\n",
    "- ideally, each can stand-alone and will execute one limited aspect of the desired functionality\n",
    "- this allows users to easily incorporate an existing function in a new way without having to rewrite it\n",
    "- an example might be a function that adds 2 numbers together\n",
    "\n",
    "## Introduction example"
   ]
  },
  {
   "cell_type": "code",
   "execution_count": 1,
   "metadata": {
    "collapsed": true
   },
   "outputs": [],
   "source": [
    "def celsius_fahrenheit():\n",
    "    # F = (C * 9/5) + 32\n",
    "    fahrenheit = (22 * (9 / 5)) + 32\n",
    "    return fahrenheit"
   ]
  },
  {
   "cell_type": "code",
   "execution_count": 2,
   "metadata": {
    "collapsed": false
   },
   "outputs": [
    {
     "data": {
      "text/plain": [
       "71.6"
      ]
     },
     "execution_count": 2,
     "metadata": {},
     "output_type": "execute_result"
    }
   ],
   "source": [
    "celsius_fahrenheit()"
   ]
  },
  {
   "cell_type": "markdown",
   "metadata": {},
   "source": [
    "- you can see here that we have a function that converts celsius to fahrenheit, using a celsius measure of 22 (room temp)\n",
    "- note how we use `def` to define a function of a give name, in this case `celsius_fehrenheit`\n",
    "- the parentheses allow you to pass arguments to the function, which we haven't done in this case\n",
    "- once the function has been created, you can run it by typing `function_name()`\n",
    "- if arguments are desired, they would be included inside the parentheses\n",
    "- one big issue with this function is that it is way too limited, only converting one measure of celcius to fahrenheit\n",
    "- let's make it a bit more flexible by adding an argument"
   ]
  },
  {
   "cell_type": "code",
   "execution_count": 3,
   "metadata": {
    "collapsed": true
   },
   "outputs": [],
   "source": [
    "def celsius_fahrenheit(C):\n",
    "    # F = (C * 9/5) + 32\n",
    "    fahrenheit = (C * (9 / 5)) + 32\n",
    "    return fahrenheit"
   ]
  },
  {
   "cell_type": "code",
   "execution_count": 4,
   "metadata": {
    "collapsed": false
   },
   "outputs": [
    {
     "ename": "TypeError",
     "evalue": "celsius_fahrenheit() missing 1 required positional argument: 'C'",
     "output_type": "error",
     "traceback": [
      "\u001b[0;31m---------------------------------------------------------------------------\u001b[0m",
      "\u001b[0;31mTypeError\u001b[0m                                 Traceback (most recent call last)",
      "\u001b[0;32m<ipython-input-4-b76cf3b6336a>\u001b[0m in \u001b[0;36m<module>\u001b[0;34m()\u001b[0m\n\u001b[0;32m----> 1\u001b[0;31m \u001b[0mcelsius_fahrenheit\u001b[0m\u001b[0;34m(\u001b[0m\u001b[0;34m)\u001b[0m\u001b[0;34m\u001b[0m\u001b[0m\n\u001b[0m",
      "\u001b[0;31mTypeError\u001b[0m: celsius_fahrenheit() missing 1 required positional argument: 'C'"
     ]
    }
   ],
   "source": [
    "celsius_fahrenheit()"
   ]
  },
  {
   "cell_type": "markdown",
   "metadata": {},
   "source": [
    "- notice the error we receive if we called it like we did before, which is telling us that an argument is required\n",
    "- let's give it one"
   ]
  },
  {
   "cell_type": "code",
   "execution_count": 5,
   "metadata": {
    "collapsed": false
   },
   "outputs": [
    {
     "data": {
      "text/plain": [
       "71.6"
      ]
     },
     "execution_count": 5,
     "metadata": {},
     "output_type": "execute_result"
    }
   ],
   "source": [
    "celsius_fahrenheit(C=22)"
   ]
  },
  {
   "cell_type": "markdown",
   "metadata": {},
   "source": [
    "- you can see this recapitulated what we did before by passing 22 celsius and getting fahrenheit back\n",
    "- this is more flexible, however, because we aren't constrained to using only 22"
   ]
  },
  {
   "cell_type": "code",
   "execution_count": 6,
   "metadata": {
    "collapsed": false
   },
   "outputs": [
    {
     "data": {
      "text/plain": [
       "86.0"
      ]
     },
     "execution_count": 6,
     "metadata": {},
     "output_type": "execute_result"
    }
   ],
   "source": [
    "celsius_fahrenheit(30)"
   ]
  },
  {
   "cell_type": "markdown",
   "metadata": {},
   "source": [
    "- another important point is that you can define a default value, which is useful in avoiding errors and making fuctions 'dummy-proof', though it isn't always a good idea"
   ]
  },
  {
   "cell_type": "code",
   "execution_count": 7,
   "metadata": {
    "collapsed": true
   },
   "outputs": [],
   "source": [
    "def celsius_fahrenheit(C=22):\n",
    "    # F = (C * 9/5) + 32\n",
    "    fahrenheit = (C * (9 / 5)) + 32\n",
    "    return fahrenheit"
   ]
  },
  {
   "cell_type": "code",
   "execution_count": 8,
   "metadata": {
    "collapsed": false
   },
   "outputs": [
    {
     "data": {
      "text/plain": [
       "71.6"
      ]
     },
     "execution_count": 8,
     "metadata": {},
     "output_type": "execute_result"
    }
   ],
   "source": [
    "celsius_fahrenheit()"
   ]
  },
  {
   "cell_type": "markdown",
   "metadata": {},
   "source": [
    "- you can see that if no argument is passed, it automatically uses the 5 specified\n",
    "- but we can still pass an argument and override the default"
   ]
  },
  {
   "cell_type": "code",
   "execution_count": 9,
   "metadata": {
    "collapsed": false
   },
   "outputs": [
    {
     "data": {
      "text/plain": [
       "59.0"
      ]
     },
     "execution_count": 9,
     "metadata": {},
     "output_type": "execute_result"
    }
   ],
   "source": [
    "celsius_fahrenheit(15)"
   ]
  },
  {
   "cell_type": "markdown",
   "metadata": {},
   "source": [
    "### Challenge\n",
    "- create a function that converts fahrenheit to celsius, much like the one we already have\n",
    "- also set default argument values so that it will produce some result, no matter what\n",
    "- lastly, determine what the difference is between the supplied temperature, which you are converting to celsius, and a 2nd argument that supplies a temperature that is already in celsius"
   ]
  },
  {
   "cell_type": "code",
   "execution_count": 10,
   "metadata": {
    "collapsed": true
   },
   "outputs": [],
   "source": [
    "def fahrenheit_celsius(F=67, check=22):\n",
    "    # C = (F - 32) x (5 / 9)\n",
    "    celsius = (F - 32) * (5 / 9)\n",
    "    diff_cel = check - celsius\n",
    "    return diff_cel"
   ]
  },
  {
   "cell_type": "code",
   "execution_count": 11,
   "metadata": {
    "collapsed": false
   },
   "outputs": [
    {
     "data": {
      "text/plain": [
       "2.5555555555555536"
      ]
     },
     "execution_count": 11,
     "metadata": {},
     "output_type": "execute_result"
    }
   ],
   "source": [
    "fahrenheit_celsius()"
   ]
  },
  {
   "cell_type": "code",
   "execution_count": 12,
   "metadata": {
    "collapsed": false
   },
   "outputs": [
    {
     "data": {
      "text/plain": [
       "37.0"
      ]
     },
     "execution_count": 12,
     "metadata": {},
     "output_type": "execute_result"
    }
   ],
   "source": [
    "fahrenheit_celsius(F=5)"
   ]
  },
  {
   "cell_type": "code",
   "execution_count": 13,
   "metadata": {
    "collapsed": false
   },
   "outputs": [
    {
     "data": {
      "text/plain": [
       "37.0"
      ]
     },
     "execution_count": 13,
     "metadata": {},
     "output_type": "execute_result"
    }
   ],
   "source": [
    "fahrenheit_celsius(5)"
   ]
  },
  {
   "cell_type": "code",
   "execution_count": 14,
   "metadata": {
    "collapsed": false
   },
   "outputs": [
    {
     "data": {
      "text/plain": [
       "-13.444444444444446"
      ]
     },
     "execution_count": 14,
     "metadata": {},
     "output_type": "execute_result"
    }
   ],
   "source": [
    "fahrenheit_celsius(check=6)"
   ]
  },
  {
   "cell_type": "code",
   "execution_count": 15,
   "metadata": {
    "collapsed": false
   },
   "outputs": [
    {
     "data": {
      "text/plain": [
       "66.44444444444444"
      ]
     },
     "execution_count": 15,
     "metadata": {},
     "output_type": "execute_result"
    }
   ],
   "source": [
    "fahrenheit_celsius(F=33, check=67)"
   ]
  },
  {
   "cell_type": "code",
   "execution_count": 16,
   "metadata": {
    "collapsed": false
   },
   "outputs": [
    {
     "data": {
      "text/plain": [
       "48.0"
      ]
     },
     "execution_count": 16,
     "metadata": {},
     "output_type": "execute_result"
    }
   ],
   "source": [
    "fahrenheit_celsius(32, 48)"
   ]
  },
  {
   "cell_type": "markdown",
   "metadata": {},
   "source": [
    "## Advanced example\n",
    "- so far what we have done is pretty simple, but you now know the basics of creating modular code with functions\n",
    "- let's go back to our full dataset of demography and human health data for US counties and write a meaningful function based on that\n",
    "- thinking back to yesterday, what do you have to do first to start working with that data?"
   ]
  },
  {
   "cell_type": "code",
   "execution_count": 17,
   "metadata": {
    "collapsed": true
   },
   "outputs": [],
   "source": [
    "import pandas as pd"
   ]
  },
  {
   "cell_type": "markdown",
   "metadata": {},
   "source": [
    "- now you can do the actual data import"
   ]
  },
  {
   "cell_type": "code",
   "execution_count": 18,
   "metadata": {
    "collapsed": true
   },
   "outputs": [],
   "source": [
    "dem_health_data = pd.read_csv(\"../data/Dem_Health_Full.txt\", sep=\"\\t\")"
   ]
  },
  {
   "cell_type": "code",
   "execution_count": 19,
   "metadata": {
    "collapsed": false
   },
   "outputs": [
    {
     "data": {
      "text/html": [
       "<div>\n",
       "<table border=\"1\" class=\"dataframe\">\n",
       "  <thead>\n",
       "    <tr style=\"text-align: right;\">\n",
       "      <th></th>\n",
       "      <th>County</th>\n",
       "      <th>State</th>\n",
       "      <th>Population_Density</th>\n",
       "      <th>Poverty</th>\n",
       "      <th>Infant_Mortality</th>\n",
       "      <th>Suicide</th>\n",
       "      <th>Total_Births</th>\n",
       "      <th>Total_Deaths</th>\n",
       "    </tr>\n",
       "  </thead>\n",
       "  <tbody>\n",
       "    <tr>\n",
       "      <th>0</th>\n",
       "      <td>Autauga</td>\n",
       "      <td>AL</td>\n",
       "      <td>82</td>\n",
       "      <td>10.4</td>\n",
       "      <td>5.9</td>\n",
       "      <td>16.6</td>\n",
       "      <td>3048.0</td>\n",
       "      <td>1867.0</td>\n",
       "    </tr>\n",
       "    <tr>\n",
       "      <th>1</th>\n",
       "      <td>Baldwin</td>\n",
       "      <td>AL</td>\n",
       "      <td>102</td>\n",
       "      <td>10.2</td>\n",
       "      <td>7.1</td>\n",
       "      <td>14.3</td>\n",
       "      <td>5471.0</td>\n",
       "      <td>4388.0</td>\n",
       "    </tr>\n",
       "    <tr>\n",
       "      <th>2</th>\n",
       "      <td>Barbour</td>\n",
       "      <td>AL</td>\n",
       "      <td>32</td>\n",
       "      <td>22.1</td>\n",
       "      <td>7.1</td>\n",
       "      <td>10.3</td>\n",
       "      <td>1835.0</td>\n",
       "      <td>1538.0</td>\n",
       "    </tr>\n",
       "    <tr>\n",
       "      <th>3</th>\n",
       "      <td>Bibb</td>\n",
       "      <td>AL</td>\n",
       "      <td>35</td>\n",
       "      <td>16.8</td>\n",
       "      <td>9.8</td>\n",
       "      <td>14.8</td>\n",
       "      <td>2801.0</td>\n",
       "      <td>2012.0</td>\n",
       "    </tr>\n",
       "    <tr>\n",
       "      <th>4</th>\n",
       "      <td>Blount</td>\n",
       "      <td>AL</td>\n",
       "      <td>86</td>\n",
       "      <td>11.9</td>\n",
       "      <td>9.0</td>\n",
       "      <td>14.4</td>\n",
       "      <td>3318.0</td>\n",
       "      <td>2453.0</td>\n",
       "    </tr>\n",
       "  </tbody>\n",
       "</table>\n",
       "</div>"
      ],
      "text/plain": [
       "    County State  Population_Density  Poverty  Infant_Mortality  Suicide  \\\n",
       "0  Autauga    AL                  82     10.4               5.9     16.6   \n",
       "1  Baldwin    AL                 102     10.2               7.1     14.3   \n",
       "2  Barbour    AL                  32     22.1               7.1     10.3   \n",
       "3     Bibb    AL                  35     16.8               9.8     14.8   \n",
       "4   Blount    AL                  86     11.9               9.0     14.4   \n",
       "\n",
       "   Total_Births  Total_Deaths  \n",
       "0        3048.0        1867.0  \n",
       "1        5471.0        4388.0  \n",
       "2        1835.0        1538.0  \n",
       "3        2801.0        2012.0  \n",
       "4        3318.0        2453.0  "
      ]
     },
     "execution_count": 19,
     "metadata": {},
     "output_type": "execute_result"
    }
   ],
   "source": [
    "dem_health_data.head()"
   ]
  },
  {
   "cell_type": "markdown",
   "metadata": {},
   "source": [
    "- you should recognize what you are looking at\n",
    "- only difference is that this includes data for all states, and not just 1\n",
    "- before, when everything was separated by state, you created a python script and then used the shell to run it on all states\n",
    "- however, what if you want to compare the data in a differet way?\n",
    "- you could make a new script that does what you desire and run it in the shell\n",
    "- but let's do this totally in python using a function\n",
    "- let's say we want to split data into 2 datasets: one that includes cities with very large populations and one that doesn't, and returns the one with cities\n",
    "- create a function to do this"
   ]
  },
  {
   "cell_type": "code",
   "execution_count": 24,
   "metadata": {
    "collapsed": true
   },
   "outputs": [],
   "source": [
    "def get_urban(df):\n",
    "    urban = df.loc[df['Population_Density'] >= 1000, :]\n",
    "    return urban"
   ]
  },
  {
   "cell_type": "code",
   "execution_count": 26,
   "metadata": {
    "collapsed": true
   },
   "outputs": [],
   "source": [
    "urban_counties = get_urban(dem_health_data)"
   ]
  },
  {
   "cell_type": "code",
   "execution_count": 27,
   "metadata": {
    "collapsed": false
   },
   "outputs": [
    {
     "data": {
      "text/html": [
       "<div>\n",
       "<table border=\"1\" class=\"dataframe\">\n",
       "  <thead>\n",
       "    <tr style=\"text-align: right;\">\n",
       "      <th></th>\n",
       "      <th>County</th>\n",
       "      <th>State</th>\n",
       "      <th>Population_Density</th>\n",
       "      <th>Poverty</th>\n",
       "      <th>Infant_Mortality</th>\n",
       "      <th>Suicide</th>\n",
       "      <th>Total_Births</th>\n",
       "      <th>Total_Deaths</th>\n",
       "    </tr>\n",
       "  </thead>\n",
       "  <tbody>\n",
       "    <tr>\n",
       "      <th>184</th>\n",
       "      <td>Alameda</td>\n",
       "      <td>CA</td>\n",
       "      <td>1964</td>\n",
       "      <td>10.7</td>\n",
       "      <td>4.8</td>\n",
       "      <td>7.6</td>\n",
       "      <td>65423.0</td>\n",
       "      <td>29143.0</td>\n",
       "    </tr>\n",
       "    <tr>\n",
       "      <th>190</th>\n",
       "      <td>Contra Costa</td>\n",
       "      <td>CA</td>\n",
       "      <td>1414</td>\n",
       "      <td>7.5</td>\n",
       "      <td>4.0</td>\n",
       "      <td>9.4</td>\n",
       "      <td>39653.0</td>\n",
       "      <td>20836.0</td>\n",
       "    </tr>\n",
       "    <tr>\n",
       "      <th>202</th>\n",
       "      <td>Los Angeles</td>\n",
       "      <td>CA</td>\n",
       "      <td>2447</td>\n",
       "      <td>17.7</td>\n",
       "      <td>5.4</td>\n",
       "      <td>7.9</td>\n",
       "      <td>457033.0</td>\n",
       "      <td>181018.0</td>\n",
       "    </tr>\n",
       "    <tr>\n",
       "      <th>213</th>\n",
       "      <td>Orange</td>\n",
       "      <td>CA</td>\n",
       "      <td>3785</td>\n",
       "      <td>10.6</td>\n",
       "      <td>4.7</td>\n",
       "      <td>7.6</td>\n",
       "      <td>135702.0</td>\n",
       "      <td>51060.0</td>\n",
       "    </tr>\n",
       "    <tr>\n",
       "      <th>217</th>\n",
       "      <td>Sacramento</td>\n",
       "      <td>CA</td>\n",
       "      <td>1412</td>\n",
       "      <td>13.7</td>\n",
       "      <td>5.6</td>\n",
       "      <td>10.9</td>\n",
       "      <td>58592.0</td>\n",
       "      <td>28774.0</td>\n",
       "    </tr>\n",
       "  </tbody>\n",
       "</table>\n",
       "</div>"
      ],
      "text/plain": [
       "           County State  Population_Density  Poverty  Infant_Mortality  \\\n",
       "184       Alameda    CA                1964     10.7               4.8   \n",
       "190  Contra Costa    CA                1414      7.5               4.0   \n",
       "202   Los Angeles    CA                2447     17.7               5.4   \n",
       "213        Orange    CA                3785     10.6               4.7   \n",
       "217    Sacramento    CA                1412     13.7               5.6   \n",
       "\n",
       "     Suicide  Total_Births  Total_Deaths  \n",
       "184      7.6       65423.0       29143.0  \n",
       "190      9.4       39653.0       20836.0  \n",
       "202      7.9      457033.0      181018.0  \n",
       "213      7.6      135702.0       51060.0  \n",
       "217     10.9       58592.0       28774.0  "
      ]
     },
     "execution_count": 27,
     "metadata": {},
     "output_type": "execute_result"
    }
   ],
   "source": [
    "urban_counties.head()"
   ]
  },
  {
   "cell_type": "markdown",
   "metadata": {},
   "source": [
    "- but what if we want both urban and rural\n",
    "- turns out it is pretty easy to do that once you see an example\n",
    "- in this case, we are going to return a list that includes 2 elements: the urban subset and the rural subset"
   ]
  },
  {
   "cell_type": "code",
   "execution_count": 48,
   "metadata": {
    "collapsed": true
   },
   "outputs": [],
   "source": [
    "def split_county_by_pop(df):\n",
    "    urban = df.loc[df['Population_Density'] >= 1000, :]\n",
    "    rural = df.loc[df['Population_Density'] < 1000, :]\n",
    "    return [urban, rural]"
   ]
  },
  {
   "cell_type": "code",
   "execution_count": 49,
   "metadata": {
    "collapsed": false
   },
   "outputs": [],
   "source": [
    "urban_rural_counties = split_county_by_pop(dem_health_data)"
   ]
  },
  {
   "cell_type": "code",
   "execution_count": 50,
   "metadata": {
    "collapsed": false
   },
   "outputs": [
    {
     "ename": "AttributeError",
     "evalue": "'list' object has no attribute 'head'",
     "output_type": "error",
     "traceback": [
      "\u001b[0;31m---------------------------------------------------------------------------\u001b[0m",
      "\u001b[0;31mAttributeError\u001b[0m                            Traceback (most recent call last)",
      "\u001b[0;32m<ipython-input-50-f135ed56351b>\u001b[0m in \u001b[0;36m<module>\u001b[0;34m()\u001b[0m\n\u001b[0;32m----> 1\u001b[0;31m \u001b[0murban_rural_counties\u001b[0m\u001b[0;34m.\u001b[0m\u001b[0mhead\u001b[0m\u001b[0;34m(\u001b[0m\u001b[0;34m)\u001b[0m\u001b[0;34m\u001b[0m\u001b[0m\n\u001b[0m",
      "\u001b[0;31mAttributeError\u001b[0m: 'list' object has no attribute 'head'"
     ]
    }
   ],
   "source": [
    "urban_rural_counties.head()"
   ]
  },
  {
   "cell_type": "markdown",
   "metadata": {},
   "source": [
    "- oops, we can't see the head of a list like we can a data frame\n",
    "- let's try printing"
   ]
  },
  {
   "cell_type": "code",
   "execution_count": 51,
   "metadata": {
    "collapsed": false
   },
   "outputs": [
    {
     "data": {
      "text/plain": [
       "[                     County State  Population_Density  Poverty  \\\n",
       " 184                 Alameda    CA                1964     10.7   \n",
       " 190            Contra Costa    CA                1414      7.5   \n",
       " 202             Los Angeles    CA                2447     17.7   \n",
       " 213                  Orange    CA                3785     10.6   \n",
       " 217              Sacramento    CA                1412     13.7   \n",
       " 221           San Francisco    CA               15837     12.0   \n",
       " 224               San Mateo    CA                1558      6.8   \n",
       " 226             Santa Clara    CA                1316      8.8   \n",
       " 258                  Denver    CO                3638     15.1   \n",
       " 306               Fairfield    CT                1443      7.3   \n",
       " 307                Hartford    CT                1193      9.2   \n",
       " 310               New Haven    CT                1398      9.4   \n",
       " 315              New Castle    DE                1227      8.2   \n",
       " 317              Washington    DC                8966     17.5   \n",
       " 323                 Broward    FL                1475     12.5   \n",
       " 332                   Duval    FL                1068     12.8   \n",
       " 345            Hillsborough    FL                1077     13.0   \n",
       " 360              Miami-Dade    FL                1221     18.9   \n",
       " 365                  Orange    FL                1127     13.2   \n",
       " 369                Pinellas    FL                3315     12.1   \n",
       " 376                Seminole    FL                1303      9.1   \n",
       " 415                 Clayton    GA                1879     13.9   \n",
       " 417                    Cobb    GA                1952      9.6   \n",
       " 428                  DeKalb    GA                2528     13.2   \n",
       " 444                  Fulton    GA                1732     16.2   \n",
       " 451                Gwinnett    GA                1678      8.2   \n",
       " 545                Honolulu    HI                1509     10.5   \n",
       " 608                    Cook    IL                5608     14.5   \n",
       " 614                  DuPage    IL                2785      5.9   \n",
       " 641                    Lake    IL                1570      6.9   \n",
       " ...                     ...   ...                 ...      ...   \n",
       " 2917   Charlottesville City    VA                3941     17.8   \n",
       " 2919  Colonial Heights City    VA                2349      7.4   \n",
       " 2920         Covington City    VA                1094     12.7   \n",
       " 2921          Danville City    VA                1072     19.3   \n",
       " 2923           Fairfax City    VA                3481      5.5   \n",
       " 2924      Falls Church City    VA                5418      3.0   \n",
       " 2925          Franklin City    VA                1029     17.3   \n",
       " 2926    Fredericksburg City    VA                1971     14.1   \n",
       " 2928           Hampton City    VA                2811     13.1   \n",
       " 2929      Harrisonburg City    VA                2303     17.9   \n",
       " 2930          Hopewell City    VA                2216     16.4   \n",
       " 2931         Lexington City    VA                2721     16.1   \n",
       " 2932         Lynchburg City    VA                1356     17.5   \n",
       " 2933          Manassas City    VA                3783      7.5   \n",
       " 2934     Manassas Park City    VA                4667      6.5   \n",
       " 2935      Martinsville City    VA                1362     17.9   \n",
       " 2936      Newport News City    VA                2634     14.0   \n",
       " 2937           Norfolk City    VA                4317     19.8   \n",
       " 2939        Petersburg City    VA                1425     18.5   \n",
       " 2941        Portsmouth City    VA                3021     16.5   \n",
       " 2942           Radford City    VA                1484     18.5   \n",
       " 2943          Richmond City    VA                3226     20.2   \n",
       " 2944           Roanoke City    VA                2160     16.9   \n",
       " 2945             Salem City    VA                1690      8.4   \n",
       " 2946          Staunton City    VA                1184     13.1   \n",
       " 2948    Virginia Beach City    VA                1766      8.0   \n",
       " 2949        Waynesboro City    VA                1385     13.1   \n",
       " 2950      Williamsburg City    VA                1376     17.5   \n",
       " 2951        Winchester City    VA                2692     12.0   \n",
       " 3086              Milwaukee    WI                3815     16.2   \n",
       " \n",
       "       Infant_Mortality  Suicide  Total_Births  Total_Deaths  \n",
       " 184                4.8      7.6       65423.0       29143.0  \n",
       " 190                4.0      9.4       39653.0       20836.0  \n",
       " 202                5.4      7.9      457033.0      181018.0  \n",
       " 213                4.7      7.6      135702.0       51060.0  \n",
       " 217                5.6     10.9       58592.0       28774.0  \n",
       " 221                3.9     11.0       25255.0       18969.0  \n",
       " 224                4.1      7.1       30483.0       14256.0  \n",
       " 226                4.0      7.6       81257.0       26130.0  \n",
       " 258                6.7     14.2       34354.0       13530.0  \n",
       " 306                5.3      6.3       36336.0       21011.0  \n",
       " 307                6.3      7.6       31212.0       23682.0  \n",
       " 310                6.8      7.6       30738.0       23078.0  \n",
       " 315                9.4     11.1       21109.0       12346.0  \n",
       " 317               10.9      6.0       22742.0       17375.0  \n",
       " 323                6.5     13.3       67007.0       48248.0  \n",
       " 332               10.3     14.5       36661.0       20511.0  \n",
       " 345                8.7     12.6       45253.0       26268.0  \n",
       " 360                5.9      9.1       97091.0       55624.0  \n",
       " 365                7.5      9.9       43304.0       19432.0  \n",
       " 369                7.6     16.3       27592.0       37641.0  \n",
       " 376                5.5     13.0       13633.0        8050.0  \n",
       " 415               10.2     11.5       13391.0        4067.0  \n",
       " 417                6.4      9.2       31600.0        9967.0  \n",
       " 428                9.2      9.7       32375.0       11887.0  \n",
       " 444                8.7      8.7       40860.0       18471.0  \n",
       " 451                6.5      9.6       34815.0        8012.0  \n",
       " 545                7.3      9.5       38506.0       18565.0  \n",
       " 608                8.5      7.5      247949.0      134307.0  \n",
       " 614                6.6      7.3       39133.0       17092.0  \n",
       " 641                5.0      7.6       31544.0       11514.0  \n",
       " ...                ...      ...           ...           ...  \n",
       " 2917               7.4     11.6        2553.0        1737.0  \n",
       " 2919               6.7     13.8        2847.0        2044.0  \n",
       " 2920               6.6  -1111.1         834.0        1031.0  \n",
       " 2921              10.1     19.3        2861.0        3768.0  \n",
       " 2923               6.7     13.2        3271.0        2080.0  \n",
       " 2924               5.4      9.4        1866.0         790.0  \n",
       " 2925               9.8     11.3        1154.0        1332.0  \n",
       " 2926               9.1     15.1        3936.0        2179.0  \n",
       " 2928              11.6      8.5        5611.0        3410.0  \n",
       " 2929               5.9     10.4        2382.0        1298.0  \n",
       " 2930              10.5     14.4        3525.0        2654.0  \n",
       " 2931               NaN  -1111.1         558.0         767.0  \n",
       " 2932               9.2     11.0        4221.0        4057.0  \n",
       " 2933               4.5  -1111.1        3593.0         959.0  \n",
       " 2934               6.3  -1111.1        1915.0         347.0  \n",
       " 2935               2.4     19.9        1907.0        2598.0  \n",
       " 2936              11.7     10.1        9587.0        4220.0  \n",
       " 2937              11.0     12.6       12143.0        6226.0  \n",
       " 2939              12.6      9.1        2706.0        2471.0  \n",
       " 2941              14.2     13.4        4726.0        3254.0  \n",
       " 2942               6.8     19.1        1317.0        1023.0  \n",
       " 2943              14.8     11.5        9287.0        6989.0  \n",
       " 2944              10.5     16.1        6456.0        6277.0  \n",
       " 2945               7.6     11.2        2528.0        3045.0  \n",
       " 2946               6.6     14.5        2527.0        2964.0  \n",
       " 2948               7.1      9.8       18786.0        7655.0  \n",
       " 2949               8.1     19.7        2731.0        2330.0  \n",
       " 2950              11.2     16.4        1192.0        1288.0  \n",
       " 2951               8.0     15.8        3336.0        2628.0  \n",
       " 3086              10.4     11.4       43885.0       26557.0  \n",
       " \n",
       " [137 rows x 8 columns],\n",
       "            County State  Population_Density  Poverty  Infant_Mortality  \\\n",
       " 0         Autauga    AL                  82     10.4               5.9   \n",
       " 1         Baldwin    AL                 102     10.2               7.1   \n",
       " 2         Barbour    AL                  32     22.1               7.1   \n",
       " 3            Bibb    AL                  35     16.8               9.8   \n",
       " 4          Blount    AL                  86     11.9               9.0   \n",
       " 5         Bullock    AL                  18     26.2              13.3   \n",
       " 6          Butler    AL                  27     20.0               5.8   \n",
       " 7         Calhoun    AL                 184     16.4               9.5   \n",
       " 8        Chambers    AL                  59     16.2               7.5   \n",
       " 9        Cherokee    AL                  44     15.2               7.4   \n",
       " 10        Chilton    AL                  60     14.9              10.5   \n",
       " 11        Choctaw    AL                  16     18.7              10.8   \n",
       " 12         Clarke    AL                  22     19.2               7.1   \n",
       " 13           Clay    AL                  23     14.0              10.2   \n",
       " 14       Cleburne    AL                  26     14.0               7.0   \n",
       " 15         Coffee    AL                  67     13.7               2.9   \n",
       " 16        Colbert    AL                  92     14.0               8.2   \n",
       " 17        Conecuh    AL                  16     22.0              14.4   \n",
       " 18          Coosa    AL                  17     13.4              13.9   \n",
       " 19      Covington    AL                  36     17.5               6.2   \n",
       " 20       Crenshaw    AL                  23     17.6              11.4   \n",
       " 21        Cullman    AL                 108     13.3               6.9   \n",
       " 22           Dale    AL                  87     15.8               7.9   \n",
       " 23         Dallas    AL                  45     25.0               9.6   \n",
       " 24         DeKalb    AL                  86     15.1               7.7   \n",
       " 25         Elmore    AL                 119     12.5               7.6   \n",
       " 26       Escambia    AL                  40     18.6              12.3   \n",
       " 27         Etowah    AL                 193     15.7               8.7   \n",
       " 28        Fayette    AL                  29     16.1               7.3   \n",
       " 29       Franklin    AL                  48     17.4              11.5   \n",
       " ...           ...   ...                 ...      ...               ...   \n",
       " 3111     Washburn    WI                  21      9.7               7.0   \n",
       " 3112   Washington    WI                 293      4.6               3.8   \n",
       " 3113     Waukesha    WI                 682      4.1               3.0   \n",
       " 3114      Waupaca    WI                  70      7.4               8.4   \n",
       " 3115     Waushara    WI                  40      9.6               7.6   \n",
       " 3116    Winnebago    WI                 364      7.5               6.1   \n",
       " 3117         Wood    WI                  95      7.8               3.7   \n",
       " 3118       Albany    WY                   7     14.4               3.7   \n",
       " 3119     Big Horn    WY                   4     13.2               6.2   \n",
       " 3120     Campbell    WY                   8      7.9               4.7   \n",
       " 3121       Carbon    WY                   2     12.2               8.8   \n",
       " 3122     Converse    WY                   3     10.5               7.5   \n",
       " 3123        Crook    WY                   2      8.5               0.0   \n",
       " 3124      Fremont    WY                   4     12.9               9.4   \n",
       " 3125       Goshen    WY                   6     14.6               7.7   \n",
       " 3126  Hot Springs    WY                   2     11.6               NaN   \n",
       " 3127      Johnson    WY                   2      9.6               0.0   \n",
       " 3128      Laramie    WY                  32      9.9               6.5   \n",
       " 3129      Lincoln    WY                   4      9.5               6.4   \n",
       " 3130      Natrona    WY                  13     12.1               4.9   \n",
       " 3131     Niobrara    WY                   1     14.1               NaN   \n",
       " 3132         Park    WY                   4     11.7               3.9   \n",
       " 3133       Platte    WY                   4     11.5               5.0   \n",
       " 3134     Sheridan    WY                  11     11.5               4.8   \n",
       " 3135     Sublette    WY                   1      7.7               8.7   \n",
       " 3136   Sweetwater    WY                   4      8.6              10.2   \n",
       " 3137        Teton    WY                   5      5.6               3.5   \n",
       " 3138        Uinta    WY                  10     10.6               7.0   \n",
       " 3139     Washakie    WY                   4     11.1               9.1   \n",
       " 3140       Weston    WY                   3      9.9              11.7   \n",
       " \n",
       "       Suicide  Total_Births  Total_Deaths  \n",
       " 0        16.6        3048.0        1867.0  \n",
       " 1        14.3        5471.0        4388.0  \n",
       " 2        10.3        1835.0        1538.0  \n",
       " 3        14.8        2801.0        2012.0  \n",
       " 4        14.4        3318.0        2453.0  \n",
       " 5     -1111.1        1604.0        1381.0  \n",
       " 6        11.9        2874.0        2857.0  \n",
       " 7        13.6        4429.0        3915.0  \n",
       " 8        12.8        2271.0        2424.0  \n",
       " 9        17.7        2659.0        2609.0  \n",
       " 10       13.3        2671.0        2065.0  \n",
       " 11        9.4        2152.0        1742.0  \n",
       " 12        8.9        1984.0        1444.0  \n",
       " 13       11.2        1748.0        1706.0  \n",
       " 14       30.1        1706.0        1540.0  \n",
       " 15       13.1        2762.0        2210.0  \n",
       " 16       15.1        3166.0        3087.0  \n",
       " 17       13.2        1872.0        1832.0  \n",
       " 18    -1111.1        1273.0        1174.0  \n",
       " 19       10.7        2247.0        2499.0  \n",
       " 20       11.2        1745.0        1825.0  \n",
       " 21        9.1        4897.0        4405.0  \n",
       " 22       10.8        3789.0        2259.0  \n",
       " 23        8.4        3767.0        2752.0  \n",
       " 24       10.9        4665.0        3326.0  \n",
       " 25        8.5        4707.0        2823.0  \n",
       " 26       11.0        2519.0        2151.0  \n",
       " 27       15.7        3810.0        4020.0  \n",
       " 28       12.0        2145.0        2224.0  \n",
       " 29       13.8        2169.0        1902.0  \n",
       " ...       ...           ...           ...  \n",
       " 3111     11.4        1575.0        1846.0  \n",
       " 3112      9.8        4493.0        2572.0  \n",
       " 3113      8.0       13001.0        8256.0  \n",
       " 3114     10.5        2961.0        3352.0  \n",
       " 3115      9.8        2324.0        2487.0  \n",
       " 3116     12.5        5441.0        3870.0  \n",
       " 3117     11.0        4352.0        3424.0  \n",
       " 3118     15.6        1881.0         925.0  \n",
       " 3119     21.9        1440.0        1304.0  \n",
       " 3120     20.0        2548.0         841.0  \n",
       " 3121     27.9        1775.0        1400.0  \n",
       " 3122     20.7        1486.0         894.0  \n",
       " 3123     20.8         634.0         481.0  \n",
       " 3124     27.2        2440.0        1843.0  \n",
       " 3125     15.2        1419.0        1276.0  \n",
       " 3126     23.9         437.0         627.0  \n",
       " 3127     14.0         674.0         739.0  \n",
       " 3128     14.4        5807.0        3337.0  \n",
       " 3129     19.8        1907.0         983.0  \n",
       " 3130     23.2        4508.0        2938.0  \n",
       " 3131  -1111.1         254.0         307.0  \n",
       " 3132     17.4        1281.0        1173.0  \n",
       " 3133     22.2         901.0         983.0  \n",
       " 3134     20.5        1456.0        1455.0  \n",
       " 3135     20.4         656.0         467.0  \n",
       " 3136     27.9        2756.0        1264.0  \n",
       " 3137     13.1        1931.0         680.0  \n",
       " 3138     18.4        3186.0        1060.0  \n",
       " 3139     14.1         974.0         844.0  \n",
       " 3140     15.8         670.0         629.0  \n",
       " \n",
       " [3004 rows x 8 columns]]"
      ]
     },
     "execution_count": 51,
     "metadata": {},
     "output_type": "execute_result"
    }
   ],
   "source": [
    "urban_rural_counties"
   ]
  },
  {
   "cell_type": "markdown",
   "metadata": {},
   "source": [
    "- that's better, but it still doesn't look like what we had before\n",
    "- why?\n",
    "- it is because we have a list element, not a dataframe"
   ]
  },
  {
   "cell_type": "code",
   "execution_count": 52,
   "metadata": {
    "collapsed": false
   },
   "outputs": [
    {
     "data": {
      "text/plain": [
       "list"
      ]
     },
     "execution_count": 52,
     "metadata": {},
     "output_type": "execute_result"
    }
   ],
   "source": [
    "type(urban_rural_counties)"
   ]
  },
  {
   "cell_type": "markdown",
   "metadata": {},
   "source": [
    "- well what happens when we just want one of the dataframes?\n",
    "- is is very easy to subset lists (called slicing) using indexing, where an index represents an ordered section of the element\n",
    "- let's do this, remembering that the urban counties are the first element of our list"
   ]
  },
  {
   "cell_type": "code",
   "execution_count": 53,
   "metadata": {
    "collapsed": false
   },
   "outputs": [
    {
     "data": {
      "text/html": [
       "<div>\n",
       "<table border=\"1\" class=\"dataframe\">\n",
       "  <thead>\n",
       "    <tr style=\"text-align: right;\">\n",
       "      <th></th>\n",
       "      <th>County</th>\n",
       "      <th>State</th>\n",
       "      <th>Population_Density</th>\n",
       "      <th>Poverty</th>\n",
       "      <th>Infant_Mortality</th>\n",
       "      <th>Suicide</th>\n",
       "      <th>Total_Births</th>\n",
       "      <th>Total_Deaths</th>\n",
       "    </tr>\n",
       "  </thead>\n",
       "  <tbody>\n",
       "    <tr>\n",
       "      <th>0</th>\n",
       "      <td>Autauga</td>\n",
       "      <td>AL</td>\n",
       "      <td>82</td>\n",
       "      <td>10.4</td>\n",
       "      <td>5.9</td>\n",
       "      <td>16.6</td>\n",
       "      <td>3048.0</td>\n",
       "      <td>1867.0</td>\n",
       "    </tr>\n",
       "    <tr>\n",
       "      <th>1</th>\n",
       "      <td>Baldwin</td>\n",
       "      <td>AL</td>\n",
       "      <td>102</td>\n",
       "      <td>10.2</td>\n",
       "      <td>7.1</td>\n",
       "      <td>14.3</td>\n",
       "      <td>5471.0</td>\n",
       "      <td>4388.0</td>\n",
       "    </tr>\n",
       "    <tr>\n",
       "      <th>2</th>\n",
       "      <td>Barbour</td>\n",
       "      <td>AL</td>\n",
       "      <td>32</td>\n",
       "      <td>22.1</td>\n",
       "      <td>7.1</td>\n",
       "      <td>10.3</td>\n",
       "      <td>1835.0</td>\n",
       "      <td>1538.0</td>\n",
       "    </tr>\n",
       "    <tr>\n",
       "      <th>3</th>\n",
       "      <td>Bibb</td>\n",
       "      <td>AL</td>\n",
       "      <td>35</td>\n",
       "      <td>16.8</td>\n",
       "      <td>9.8</td>\n",
       "      <td>14.8</td>\n",
       "      <td>2801.0</td>\n",
       "      <td>2012.0</td>\n",
       "    </tr>\n",
       "    <tr>\n",
       "      <th>4</th>\n",
       "      <td>Blount</td>\n",
       "      <td>AL</td>\n",
       "      <td>86</td>\n",
       "      <td>11.9</td>\n",
       "      <td>9.0</td>\n",
       "      <td>14.4</td>\n",
       "      <td>3318.0</td>\n",
       "      <td>2453.0</td>\n",
       "    </tr>\n",
       "  </tbody>\n",
       "</table>\n",
       "</div>"
      ],
      "text/plain": [
       "    County State  Population_Density  Poverty  Infant_Mortality  Suicide  \\\n",
       "0  Autauga    AL                  82     10.4               5.9     16.6   \n",
       "1  Baldwin    AL                 102     10.2               7.1     14.3   \n",
       "2  Barbour    AL                  32     22.1               7.1     10.3   \n",
       "3     Bibb    AL                  35     16.8               9.8     14.8   \n",
       "4   Blount    AL                  86     11.9               9.0     14.4   \n",
       "\n",
       "   Total_Births  Total_Deaths  \n",
       "0        3048.0        1867.0  \n",
       "1        5471.0        4388.0  \n",
       "2        1835.0        1538.0  \n",
       "3        2801.0        2012.0  \n",
       "4        3318.0        2453.0  "
      ]
     },
     "execution_count": 53,
     "metadata": {},
     "output_type": "execute_result"
    }
   ],
   "source": [
    "urban_rural_counties[1].head()"
   ]
  },
  {
   "cell_type": "markdown",
   "metadata": {},
   "source": [
    "- what happened? we have our rural county data not our urban county data\n",
    "- python is 0-index or has an origin of 0\n",
    "- that means that the first element is 0, 2nd is 1, etc. up to n-1 elements"
   ]
  },
  {
   "cell_type": "code",
   "execution_count": 54,
   "metadata": {
    "collapsed": false
   },
   "outputs": [
    {
     "data": {
      "text/html": [
       "<div>\n",
       "<table border=\"1\" class=\"dataframe\">\n",
       "  <thead>\n",
       "    <tr style=\"text-align: right;\">\n",
       "      <th></th>\n",
       "      <th>County</th>\n",
       "      <th>State</th>\n",
       "      <th>Population_Density</th>\n",
       "      <th>Poverty</th>\n",
       "      <th>Infant_Mortality</th>\n",
       "      <th>Suicide</th>\n",
       "      <th>Total_Births</th>\n",
       "      <th>Total_Deaths</th>\n",
       "    </tr>\n",
       "  </thead>\n",
       "  <tbody>\n",
       "    <tr>\n",
       "      <th>184</th>\n",
       "      <td>Alameda</td>\n",
       "      <td>CA</td>\n",
       "      <td>1964</td>\n",
       "      <td>10.7</td>\n",
       "      <td>4.8</td>\n",
       "      <td>7.6</td>\n",
       "      <td>65423.0</td>\n",
       "      <td>29143.0</td>\n",
       "    </tr>\n",
       "    <tr>\n",
       "      <th>190</th>\n",
       "      <td>Contra Costa</td>\n",
       "      <td>CA</td>\n",
       "      <td>1414</td>\n",
       "      <td>7.5</td>\n",
       "      <td>4.0</td>\n",
       "      <td>9.4</td>\n",
       "      <td>39653.0</td>\n",
       "      <td>20836.0</td>\n",
       "    </tr>\n",
       "    <tr>\n",
       "      <th>202</th>\n",
       "      <td>Los Angeles</td>\n",
       "      <td>CA</td>\n",
       "      <td>2447</td>\n",
       "      <td>17.7</td>\n",
       "      <td>5.4</td>\n",
       "      <td>7.9</td>\n",
       "      <td>457033.0</td>\n",
       "      <td>181018.0</td>\n",
       "    </tr>\n",
       "    <tr>\n",
       "      <th>213</th>\n",
       "      <td>Orange</td>\n",
       "      <td>CA</td>\n",
       "      <td>3785</td>\n",
       "      <td>10.6</td>\n",
       "      <td>4.7</td>\n",
       "      <td>7.6</td>\n",
       "      <td>135702.0</td>\n",
       "      <td>51060.0</td>\n",
       "    </tr>\n",
       "    <tr>\n",
       "      <th>217</th>\n",
       "      <td>Sacramento</td>\n",
       "      <td>CA</td>\n",
       "      <td>1412</td>\n",
       "      <td>13.7</td>\n",
       "      <td>5.6</td>\n",
       "      <td>10.9</td>\n",
       "      <td>58592.0</td>\n",
       "      <td>28774.0</td>\n",
       "    </tr>\n",
       "  </tbody>\n",
       "</table>\n",
       "</div>"
      ],
      "text/plain": [
       "           County State  Population_Density  Poverty  Infant_Mortality  \\\n",
       "184       Alameda    CA                1964     10.7               4.8   \n",
       "190  Contra Costa    CA                1414      7.5               4.0   \n",
       "202   Los Angeles    CA                2447     17.7               5.4   \n",
       "213        Orange    CA                3785     10.6               4.7   \n",
       "217    Sacramento    CA                1412     13.7               5.6   \n",
       "\n",
       "     Suicide  Total_Births  Total_Deaths  \n",
       "184      7.6       65423.0       29143.0  \n",
       "190      9.4       39653.0       20836.0  \n",
       "202      7.9      457033.0      181018.0  \n",
       "213      7.6      135702.0       51060.0  \n",
       "217     10.9       58592.0       28774.0  "
      ]
     },
     "execution_count": 54,
     "metadata": {},
     "output_type": "execute_result"
    }
   ],
   "source": [
    "urban_rural_counties[0].head()"
   ]
  },
  {
   "cell_type": "markdown",
   "metadata": {},
   "source": [
    "### Challenge\n",
    "- great, but notice that we used an inflexble, arbitrary threshold for urban counties\n",
    "- at some other time, you may wish to split your dataset using a different threshold\n",
    "- let's code a function that allows us to do that as a last challenge"
   ]
  },
  {
   "cell_type": "code",
   "execution_count": 56,
   "metadata": {
    "collapsed": true
   },
   "outputs": [],
   "source": [
    "def split_county_by_pop(df, threshold):\n",
    "    urban = df.loc[df['Population_Density'] >= threshold, :]\n",
    "    rural = df.loc[df['Population_Density'] < threshold, :]\n",
    "    return [urban, rural]"
   ]
  },
  {
   "cell_type": "code",
   "execution_count": 57,
   "metadata": {
    "collapsed": true
   },
   "outputs": [],
   "source": [
    "urban_rural_counties = split_county_by_pop(dem_health_data, 500)"
   ]
  },
  {
   "cell_type": "code",
   "execution_count": 58,
   "metadata": {
    "collapsed": false
   },
   "outputs": [
    {
     "data": {
      "text/html": [
       "<div>\n",
       "<table border=\"1\" class=\"dataframe\">\n",
       "  <thead>\n",
       "    <tr style=\"text-align: right;\">\n",
       "      <th></th>\n",
       "      <th>County</th>\n",
       "      <th>State</th>\n",
       "      <th>Population_Density</th>\n",
       "      <th>Poverty</th>\n",
       "      <th>Infant_Mortality</th>\n",
       "      <th>Suicide</th>\n",
       "      <th>Total_Births</th>\n",
       "      <th>Total_Deaths</th>\n",
       "    </tr>\n",
       "  </thead>\n",
       "  <tbody>\n",
       "    <tr>\n",
       "      <th>36</th>\n",
       "      <td>Jefferson</td>\n",
       "      <td>AL</td>\n",
       "      <td>591</td>\n",
       "      <td>14.4</td>\n",
       "      <td>11.3</td>\n",
       "      <td>11.3</td>\n",
       "      <td>27118.0</td>\n",
       "      <td>21937.0</td>\n",
       "    </tr>\n",
       "    <tr>\n",
       "      <th>184</th>\n",
       "      <td>Alameda</td>\n",
       "      <td>CA</td>\n",
       "      <td>1964</td>\n",
       "      <td>10.7</td>\n",
       "      <td>4.8</td>\n",
       "      <td>7.6</td>\n",
       "      <td>65423.0</td>\n",
       "      <td>29143.0</td>\n",
       "    </tr>\n",
       "    <tr>\n",
       "      <th>190</th>\n",
       "      <td>Contra Costa</td>\n",
       "      <td>CA</td>\n",
       "      <td>1414</td>\n",
       "      <td>7.5</td>\n",
       "      <td>4.0</td>\n",
       "      <td>9.4</td>\n",
       "      <td>39653.0</td>\n",
       "      <td>20836.0</td>\n",
       "    </tr>\n",
       "    <tr>\n",
       "      <th>202</th>\n",
       "      <td>Los Angeles</td>\n",
       "      <td>CA</td>\n",
       "      <td>2447</td>\n",
       "      <td>17.7</td>\n",
       "      <td>5.4</td>\n",
       "      <td>7.9</td>\n",
       "      <td>457033.0</td>\n",
       "      <td>181018.0</td>\n",
       "    </tr>\n",
       "    <tr>\n",
       "      <th>213</th>\n",
       "      <td>Orange</td>\n",
       "      <td>CA</td>\n",
       "      <td>3785</td>\n",
       "      <td>10.6</td>\n",
       "      <td>4.7</td>\n",
       "      <td>7.6</td>\n",
       "      <td>135702.0</td>\n",
       "      <td>51060.0</td>\n",
       "    </tr>\n",
       "  </tbody>\n",
       "</table>\n",
       "</div>"
      ],
      "text/plain": [
       "           County State  Population_Density  Poverty  Infant_Mortality  \\\n",
       "36      Jefferson    AL                 591     14.4              11.3   \n",
       "184       Alameda    CA                1964     10.7               4.8   \n",
       "190  Contra Costa    CA                1414      7.5               4.0   \n",
       "202   Los Angeles    CA                2447     17.7               5.4   \n",
       "213        Orange    CA                3785     10.6               4.7   \n",
       "\n",
       "     Suicide  Total_Births  Total_Deaths  \n",
       "36      11.3       27118.0       21937.0  \n",
       "184      7.6       65423.0       29143.0  \n",
       "190      9.4       39653.0       20836.0  \n",
       "202      7.9      457033.0      181018.0  \n",
       "213      7.6      135702.0       51060.0  "
      ]
     },
     "execution_count": 58,
     "metadata": {},
     "output_type": "execute_result"
    }
   ],
   "source": [
    "urban_rural_counties[0].head()"
   ]
  },
  {
   "cell_type": "code",
   "execution_count": 59,
   "metadata": {
    "collapsed": false
   },
   "outputs": [
    {
     "data": {
      "text/plain": [
       "235"
      ]
     },
     "execution_count": 59,
     "metadata": {},
     "output_type": "execute_result"
    }
   ],
   "source": [
    "len(urban_rural_counties[0])"
   ]
  },
  {
   "cell_type": "code",
   "execution_count": 60,
   "metadata": {
    "collapsed": false
   },
   "outputs": [],
   "source": [
    "urban_check = urban_rural_counties[0]"
   ]
  },
  {
   "cell_type": "code",
   "execution_count": 61,
   "metadata": {
    "collapsed": false
   },
   "outputs": [
    {
     "data": {
      "text/plain": [
       "Population_Density    504\n",
       "dtype: int64"
      ]
     },
     "execution_count": 61,
     "metadata": {},
     "output_type": "execute_result"
    }
   ],
   "source": [
    "urban_check.loc[: ,['Population_Density']].min()"
   ]
  },
  {
   "cell_type": "markdown",
   "metadata": {},
   "source": [
    "- awesome, we have what we need now!\n",
    "- after the break, Gaurav will continue with this dataset but will teach you how to create functions use python plotting capabilities to explore and understand the data\n",
    "- keep this Jupyter notebook open and Gaurav will pick up where I left off"
   ]
  }
 ],
 "metadata": {
  "anaconda-cloud": {},
  "kernelspec": {
   "display_name": "Python 3",
   "language": "python",
   "name": "python3"
  },
  "language_info": {
   "codemirror_mode": {
    "name": "ipython",
    "version": 3
   },
   "file_extension": ".py",
   "mimetype": "text/x-python",
   "name": "python",
   "nbconvert_exporter": "python",
   "pygments_lexer": "ipython3",
   "version": "3.5.2"
  }
 },
 "nbformat": 4,
 "nbformat_minor": 0
}
